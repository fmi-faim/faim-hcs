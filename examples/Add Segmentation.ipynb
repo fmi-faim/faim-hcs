{
 "cells": [
  {
   "cell_type": "code",
   "execution_count": 1,
   "id": "e38cc9a3-067a-4959-bb7b-1f385caec32d",
   "metadata": {
    "tags": []
   },
   "outputs": [],
   "source": [
    "import numpy as np\n",
    "import zarr\n",
    "\n",
    "from faim_ipa.Zarr import write_labels_to_group\n",
    "from faim_ipa.mobie import add_labels_view, compute_aggregate_table_values\n",
    "from mobie.metadata import read_dataset_metadata\n",
    "from mobie.validation import validate_dataset\n",
    "from ome_zarr.io import parse_url\n",
    "from pathlib import Path\n",
    "from skimage.measure import label\n",
    "from tqdm import tqdm\n"
   ]
  },
  {
   "cell_type": "markdown",
   "id": "a328aa99-bb84-4640-88da-cf2a83a04451",
   "metadata": {},
   "source": [
    "## Segment projection image in plate"
   ]
  },
  {
   "cell_type": "code",
   "execution_count": 2,
   "id": "c16e94cb-f36f-494c-8e19-e38304b7497e",
   "metadata": {
    "tags": []
   },
   "outputs": [],
   "source": [
    "storage = parse_url(path=\"./zarr-files/Projection-Mix.zarr/\", mode=\"w\").store\n",
    "plate = zarr.group(store=storage)"
   ]
  },
  {
   "cell_type": "code",
   "execution_count": 3,
   "id": "069c45a2-d842-485b-82fc-62d8820d6f99",
   "metadata": {
    "tags": []
   },
   "outputs": [
    {
     "data": {
      "text/plain": [
       "[{'columnIndex': 7, 'path': 'E/8', 'rowIndex': 4},\n",
       " {'columnIndex': 6, 'path': 'E/7', 'rowIndex': 4}]"
      ]
     },
     "execution_count": 3,
     "metadata": {},
     "output_type": "execute_result"
    }
   ],
   "source": [
    "wells = plate.attrs.asdict()[\"plate\"][\"wells\"]\n",
    "wells"
   ]
  },
  {
   "cell_type": "code",
   "execution_count": 4,
   "id": "ccdf6361-aa90-4511-9f7b-590d71b44ca7",
   "metadata": {
    "tags": []
   },
   "outputs": [],
   "source": [
    "threshold = 20000"
   ]
  },
  {
   "cell_type": "code",
   "execution_count": 5,
   "id": "272a5f8d-485e-490b-93cf-dd053b6f419e",
   "metadata": {
    "tags": []
   },
   "outputs": [
    {
     "name": "stderr",
     "output_type": "stream",
     "text": [
      "100%|█████████████████████████████████████████████████████████████████████████████████████████████████████████████████████████████████████████████████████████████████████████████████████████████████| 2/2 [00:00<00:00, 25.59it/s]\n"
     ]
    }
   ],
   "source": [
    "for well in tqdm(wells):\n",
    "    group = plate[well[\"path\"]][0][\"projections\"]\n",
    "    img = group[0]\n",
    "    labels = label(img[0]>threshold)[np.newaxis, :]  # simple threshold segmentation\n",
    "    write_labels_to_group(labels=labels, labels_name=\"simple_threshold\", parent_group=group)"
   ]
  },
  {
   "cell_type": "code",
   "execution_count": 6,
   "id": "3ac70bb2-ac49-42f0-8e65-33a557daed99",
   "metadata": {
    "tags": []
   },
   "outputs": [
    {
     "data": {
      "text/html": [
       "<table class=\"zarr-info\"><tbody><tr><th style=\"text-align: left\">Name</th><td style=\"text-align: left\">/E/7/0/projections/labels/simple_threshold/0</td></tr><tr><th style=\"text-align: left\">Type</th><td style=\"text-align: left\">zarr.core.Array</td></tr><tr><th style=\"text-align: left\">Data type</th><td style=\"text-align: left\">int32</td></tr><tr><th style=\"text-align: left\">Shape</th><td style=\"text-align: left\">(1, 512, 1024)</td></tr><tr><th style=\"text-align: left\">Chunk shape</th><td style=\"text-align: left\">(1, 512, 1024)</td></tr><tr><th style=\"text-align: left\">Order</th><td style=\"text-align: left\">C</td></tr><tr><th style=\"text-align: left\">Read-only</th><td style=\"text-align: left\">False</td></tr><tr><th style=\"text-align: left\">Compressor</th><td style=\"text-align: left\">Blosc(cname='lz4', clevel=5, shuffle=SHUFFLE, blocksize=0)</td></tr><tr><th style=\"text-align: left\">Store type</th><td style=\"text-align: left\">zarr.storage.FSStore</td></tr><tr><th style=\"text-align: left\">No. bytes</th><td style=\"text-align: left\">2097152 (2.0M)</td></tr><tr><th style=\"text-align: left\">No. bytes stored</th><td style=\"text-align: left\">395</td></tr><tr><th style=\"text-align: left\">Storage ratio</th><td style=\"text-align: left\">5309.2</td></tr><tr><th style=\"text-align: left\">Chunks initialized</th><td style=\"text-align: left\">1/1</td></tr></tbody></table>"
      ],
      "text/plain": [
       "Name               : /E/7/0/projections/labels/simple_threshold/0\n",
       "Type               : zarr.core.Array\n",
       "Data type          : int32\n",
       "Shape              : (1, 512, 1024)\n",
       "Chunk shape        : (1, 512, 1024)\n",
       "Order              : C\n",
       "Read-only          : False\n",
       "Compressor         : Blosc(cname='lz4', clevel=5, shuffle=SHUFFLE, blocksize=0)\n",
       "Store type         : zarr.storage.FSStore\n",
       "No. bytes          : 2097152 (2.0M)\n",
       "No. bytes stored   : 395\n",
       "Storage ratio      : 5309.2\n",
       "Chunks initialized : 1/1"
      ]
     },
     "execution_count": 6,
     "metadata": {},
     "output_type": "execute_result"
    }
   ],
   "source": [
    "plate['E/7/0/projections/labels/simple_threshold/0'].info"
   ]
  },
  {
   "cell_type": "markdown",
   "id": "2c9644d4-6094-49fc-bd43-ad7917ec84ce",
   "metadata": {},
   "source": [
    "## Add segmentation to MoBIE project"
   ]
  },
  {
   "cell_type": "code",
   "execution_count": 7,
   "id": "7a37cb62-c09a-4848-b9dc-b251237470b7",
   "metadata": {
    "tags": []
   },
   "outputs": [],
   "source": [
    "mobie_project_folder = \"./mobie-example-project\"\n",
    "dataset_name = \"Projection-Mix\"\n",
    "dataset_folder = Path(mobie_project_folder, dataset_name)"
   ]
  },
  {
   "cell_type": "code",
   "execution_count": 8,
   "id": "7e9b951c-c533-4754-b598-7cfdd0d932c4",
   "metadata": {
    "tags": []
   },
   "outputs": [],
   "source": [
    "dataset_metadata = read_dataset_metadata(dataset_folder=dataset_folder)"
   ]
  },
  {
   "cell_type": "code",
   "execution_count": 9,
   "id": "b552be35-8f24-4f1b-af97-08be8554bc77",
   "metadata": {
    "tags": []
   },
   "outputs": [
    {
     "data": {
      "application/json": {
       "description": "A 3D projection mix example dataset.",
       "is2D": false,
       "sources": {
        "E07_C01_FITC_05": {
         "image": {
          "imageData": {
           "ome.zarr": {
            "channel": 0,
            "relativePath": "../../zarr-files/Projection-Mix.zarr/E/7/0"
           }
          }
         }
        },
        "E07_C01_Maximum-Projection_FITC_05": {
         "image": {
          "imageData": {
           "ome.zarr": {
            "channel": 0,
            "relativePath": "../../zarr-files/Projection-Mix.zarr/E/7/0/projections"
           }
          }
         }
        },
        "E07_C02_Best-Focus-Projection_FITC_05": {
         "image": {
          "imageData": {
           "ome.zarr": {
            "channel": 1,
            "relativePath": "../../zarr-files/Projection-Mix.zarr/E/7/0/projections"
           }
          }
         }
        },
        "E07_C02_FITC_05": {
         "image": {
          "imageData": {
           "ome.zarr": {
            "channel": 1,
            "relativePath": "../../zarr-files/Projection-Mix.zarr/E/7/0"
           }
          }
         }
        },
        "E07_C03_Maximum-Projection_FITC_05": {
         "image": {
          "imageData": {
           "ome.zarr": {
            "channel": 2,
            "relativePath": "../../zarr-files/Projection-Mix.zarr/E/7/0/projections"
           }
          }
         }
        },
        "E07_C03_empty": {
         "image": {
          "imageData": {
           "ome.zarr": {
            "channel": 2,
            "relativePath": "../../zarr-files/Projection-Mix.zarr/E/7/0"
           }
          }
         }
        },
        "E07_C04_FITC_05": {
         "image": {
          "imageData": {
           "ome.zarr": {
            "channel": 3,
            "relativePath": "../../zarr-files/Projection-Mix.zarr/E/7/0"
           }
          }
         }
        },
        "E07_C04_empty_projection": {
         "image": {
          "imageData": {
           "ome.zarr": {
            "channel": 3,
            "relativePath": "../../zarr-files/Projection-Mix.zarr/E/7/0/projections"
           }
          }
         }
        },
        "E08_C01_FITC_05": {
         "image": {
          "imageData": {
           "ome.zarr": {
            "channel": 0,
            "relativePath": "../../zarr-files/Projection-Mix.zarr/E/8/0"
           }
          }
         }
        },
        "E08_C01_Maximum-Projection_FITC_05": {
         "image": {
          "imageData": {
           "ome.zarr": {
            "channel": 0,
            "relativePath": "../../zarr-files/Projection-Mix.zarr/E/8/0/projections"
           }
          }
         }
        },
        "E08_C02_Best-Focus-Projection_FITC_05": {
         "image": {
          "imageData": {
           "ome.zarr": {
            "channel": 1,
            "relativePath": "../../zarr-files/Projection-Mix.zarr/E/8/0/projections"
           }
          }
         }
        },
        "E08_C02_FITC_05": {
         "image": {
          "imageData": {
           "ome.zarr": {
            "channel": 1,
            "relativePath": "../../zarr-files/Projection-Mix.zarr/E/8/0"
           }
          }
         }
        },
        "E08_C03_Maximum-Projection_FITC_05": {
         "image": {
          "imageData": {
           "ome.zarr": {
            "channel": 2,
            "relativePath": "../../zarr-files/Projection-Mix.zarr/E/8/0/projections"
           }
          }
         }
        },
        "E08_C03_empty": {
         "image": {
          "imageData": {
           "ome.zarr": {
            "channel": 2,
            "relativePath": "../../zarr-files/Projection-Mix.zarr/E/8/0"
           }
          }
         }
        },
        "E08_C04_FITC_05": {
         "image": {
          "imageData": {
           "ome.zarr": {
            "channel": 3,
            "relativePath": "../../zarr-files/Projection-Mix.zarr/E/8/0"
           }
          }
         }
        },
        "E08_C04_empty_projection": {
         "image": {
          "imageData": {
           "ome.zarr": {
            "channel": 3,
            "relativePath": "../../zarr-files/Projection-Mix.zarr/E/8/0/projections"
           }
          }
         }
        },
        "wells": {
         "regions": {
          "tableData": {
           "tsv": {
            "relativePath": "tables/wells"
           }
          }
         }
        }
       },
       "views": {
        "Projections": {
         "isExclusive": true,
         "sourceDisplays": [
          {
           "imageDisplay": {
            "color": "r=115,g=255,b=0,a=255",
            "contrastLimits": [
             142,
             23030
            ],
            "name": "Plate_C01_Maximum-Projection_FITC_05",
            "opacity": 1,
            "sources": [
             "merged_view_plate_C01_Maximum-Projection_FITC_05"
            ],
            "visible": true
           }
          },
          {
           "imageDisplay": {
            "color": "r=115,g=255,b=0,a=255",
            "contrastLimits": [
             115,
             19267
            ],
            "name": "Plate_C02_Best-Focus-Projection_FITC_05",
            "opacity": 1,
            "sources": [
             "merged_view_plate_C02_Best-Focus-Projection_FITC_05"
            ],
            "visible": false
           }
          },
          {
           "imageDisplay": {
            "color": "r=115,g=255,b=0,a=255",
            "contrastLimits": [
             142,
             23021
            ],
            "name": "Plate_C03_Maximum-Projection_FITC_05",
            "opacity": 1,
            "sources": [
             "merged_view_plate_C03_Maximum-Projection_FITC_05"
            ],
            "visible": false
           }
          },
          {
           "imageDisplay": {
            "color": "r=0,g=0,b=0,a=255",
            "contrastLimits": [
             0,
             0
            ],
            "name": "Plate_C04_empty_projection",
            "opacity": 1,
            "sources": [
             "merged_view_plate_C04_empty_projection"
            ],
            "visible": false
           }
          },
          {
           "regionDisplay": {
            "lut": "glasbey",
            "name": "Wells",
            "opacity": 0.5,
            "showAsBoundaries": false,
            "sources": {
             "E07": [
              "E07_C01_Maximum-Projection_FITC_05",
              "E07_C02_Best-Focus-Projection_FITC_05",
              "E07_C03_Maximum-Projection_FITC_05",
              "E07_C04_empty_projection"
             ],
             "E08": [
              "E08_C01_Maximum-Projection_FITC_05",
              "E08_C02_Best-Focus-Projection_FITC_05",
              "E08_C03_Maximum-Projection_FITC_05",
              "E08_C04_empty_projection"
             ]
            },
            "tableSource": "wells",
            "visible": true
           }
          }
         ],
         "sourceTransforms": [
          {
           "mergedGrid": {
            "mergedGridSourceName": "merged_view_plate_C01_Maximum-Projection_FITC_05",
            "positions": [
             [
              6,
              4
             ],
             [
              7,
              4
             ]
            ],
            "sources": [
             "E07_C01_Maximum-Projection_FITC_05",
             "E08_C01_Maximum-Projection_FITC_05"
            ]
           }
          },
          {
           "mergedGrid": {
            "mergedGridSourceName": "merged_view_plate_C02_Best-Focus-Projection_FITC_05",
            "positions": [
             [
              6,
              4
             ],
             [
              7,
              4
             ]
            ],
            "sources": [
             "E07_C02_Best-Focus-Projection_FITC_05",
             "E08_C02_Best-Focus-Projection_FITC_05"
            ]
           }
          },
          {
           "mergedGrid": {
            "mergedGridSourceName": "merged_view_plate_C03_Maximum-Projection_FITC_05",
            "positions": [
             [
              6,
              4
             ],
             [
              7,
              4
             ]
            ],
            "sources": [
             "E07_C03_Maximum-Projection_FITC_05",
             "E08_C03_Maximum-Projection_FITC_05"
            ]
           }
          },
          {
           "mergedGrid": {
            "mergedGridSourceName": "merged_view_plate_C04_empty_projection",
            "positions": [
             [
              6,
              4
             ],
             [
              7,
              4
             ]
            ],
            "sources": [
             "E07_C04_empty_projection",
             "E08_C04_empty_projection"
            ]
           }
          }
         ],
         "uiSelectionGroup": "bookmarks"
        },
        "default": {
         "isExclusive": true,
         "sourceDisplays": [
          {
           "imageDisplay": {
            "color": "r=115,g=255,b=0,a=255",
            "contrastLimits": [
             111,
             8065
            ],
            "name": "Plate_C01_FITC_05",
            "opacity": 1,
            "sources": [
             "merged_view_plate_C01_FITC_05"
            ],
            "visible": true
           }
          },
          {
           "imageDisplay": {
            "color": "r=115,g=255,b=0,a=255",
            "contrastLimits": [
             111,
             8014
            ],
            "name": "Plate_C02_FITC_05",
            "opacity": 1,
            "sources": [
             "merged_view_plate_C02_FITC_05"
            ],
            "visible": false
           }
          },
          {
           "imageDisplay": {
            "color": "r=0,g=0,b=0,a=255",
            "contrastLimits": [
             0,
             0
            ],
            "name": "Plate_C03_empty",
            "opacity": 1,
            "sources": [
             "merged_view_plate_C03_empty"
            ],
            "visible": false
           }
          },
          {
           "imageDisplay": {
            "color": "r=115,g=255,b=0,a=255",
            "contrastLimits": [
             0,
             170
            ],
            "name": "Plate_C04_FITC_05",
            "opacity": 1,
            "sources": [
             "merged_view_plate_C04_FITC_05"
            ],
            "visible": false
           }
          },
          {
           "regionDisplay": {
            "lut": "glasbey",
            "name": "Wells",
            "opacity": 0.5,
            "showAsBoundaries": false,
            "sources": {
             "E07": [
              "E07_C01_FITC_05",
              "E07_C02_FITC_05",
              "E07_C03_empty",
              "E07_C04_FITC_05"
             ],
             "E08": [
              "E08_C01_FITC_05",
              "E08_C02_FITC_05",
              "E08_C03_empty",
              "E08_C04_FITC_05"
             ]
            },
            "tableSource": "wells",
            "visible": true
           }
          }
         ],
         "sourceTransforms": [
          {
           "mergedGrid": {
            "mergedGridSourceName": "merged_view_plate_C01_FITC_05",
            "positions": [
             [
              6,
              4
             ],
             [
              7,
              4
             ]
            ],
            "sources": [
             "E07_C01_FITC_05",
             "E08_C01_FITC_05"
            ]
           }
          },
          {
           "mergedGrid": {
            "mergedGridSourceName": "merged_view_plate_C02_FITC_05",
            "positions": [
             [
              6,
              4
             ],
             [
              7,
              4
             ]
            ],
            "sources": [
             "E07_C02_FITC_05",
             "E08_C02_FITC_05"
            ]
           }
          },
          {
           "mergedGrid": {
            "mergedGridSourceName": "merged_view_plate_C03_empty",
            "positions": [
             [
              6,
              4
             ],
             [
              7,
              4
             ]
            ],
            "sources": [
             "E07_C03_empty",
             "E08_C03_empty"
            ]
           }
          },
          {
           "mergedGrid": {
            "mergedGridSourceName": "merged_view_plate_C04_FITC_05",
            "positions": [
             [
              6,
              4
             ],
             [
              7,
              4
             ]
            ],
            "sources": [
             "E07_C04_FITC_05",
             "E08_C04_FITC_05"
            ]
           }
          }
         ],
         "uiSelectionGroup": "bookmarks"
        }
       }
      },
      "text/plain": [
       "<IPython.core.display.JSON object>"
      ]
     },
     "execution_count": 9,
     "metadata": {
      "application/json": {
       "expanded": false,
       "root": "root"
      }
     },
     "output_type": "execute_result"
    }
   ],
   "source": [
    "from IPython.display import JSON\n",
    "JSON(dataset_metadata)"
   ]
  },
  {
   "cell_type": "code",
   "execution_count": 10,
   "id": "96dc7c7d-d242-4ec5-9535-8831ec14058e",
   "metadata": {
    "tags": []
   },
   "outputs": [
    {
     "data": {
      "application/json": {
       "isExclusive": true,
       "sourceDisplays": [
        {
         "imageDisplay": {
          "color": "r=115,g=255,b=0,a=255",
          "contrastLimits": [
           142,
           23030
          ],
          "name": "Plate_C01_Maximum-Projection_FITC_05",
          "opacity": 1,
          "sources": [
           "merged_view_plate_C01_Maximum-Projection_FITC_05"
          ],
          "visible": true
         }
        },
        {
         "imageDisplay": {
          "color": "r=115,g=255,b=0,a=255",
          "contrastLimits": [
           115,
           19267
          ],
          "name": "Plate_C02_Best-Focus-Projection_FITC_05",
          "opacity": 1,
          "sources": [
           "merged_view_plate_C02_Best-Focus-Projection_FITC_05"
          ],
          "visible": false
         }
        },
        {
         "imageDisplay": {
          "color": "r=115,g=255,b=0,a=255",
          "contrastLimits": [
           142,
           23021
          ],
          "name": "Plate_C03_Maximum-Projection_FITC_05",
          "opacity": 1,
          "sources": [
           "merged_view_plate_C03_Maximum-Projection_FITC_05"
          ],
          "visible": false
         }
        },
        {
         "imageDisplay": {
          "color": "r=0,g=0,b=0,a=255",
          "contrastLimits": [
           0,
           0
          ],
          "name": "Plate_C04_empty_projection",
          "opacity": 1,
          "sources": [
           "merged_view_plate_C04_empty_projection"
          ],
          "visible": false
         }
        },
        {
         "regionDisplay": {
          "lut": "glasbey",
          "name": "Wells",
          "opacity": 0.5,
          "showAsBoundaries": false,
          "sources": {
           "E07": [
            "E07_C01_Maximum-Projection_FITC_05",
            "E07_C02_Best-Focus-Projection_FITC_05",
            "E07_C03_Maximum-Projection_FITC_05",
            "E07_C04_empty_projection"
           ],
           "E08": [
            "E08_C01_Maximum-Projection_FITC_05",
            "E08_C02_Best-Focus-Projection_FITC_05",
            "E08_C03_Maximum-Projection_FITC_05",
            "E08_C04_empty_projection"
           ]
          },
          "tableSource": "wells",
          "visible": true
         }
        }
       ],
       "sourceTransforms": [
        {
         "mergedGrid": {
          "mergedGridSourceName": "merged_view_plate_C01_Maximum-Projection_FITC_05",
          "positions": [
           [
            6,
            4
           ],
           [
            7,
            4
           ]
          ],
          "sources": [
           "E07_C01_Maximum-Projection_FITC_05",
           "E08_C01_Maximum-Projection_FITC_05"
          ]
         }
        },
        {
         "mergedGrid": {
          "mergedGridSourceName": "merged_view_plate_C02_Best-Focus-Projection_FITC_05",
          "positions": [
           [
            6,
            4
           ],
           [
            7,
            4
           ]
          ],
          "sources": [
           "E07_C02_Best-Focus-Projection_FITC_05",
           "E08_C02_Best-Focus-Projection_FITC_05"
          ]
         }
        },
        {
         "mergedGrid": {
          "mergedGridSourceName": "merged_view_plate_C03_Maximum-Projection_FITC_05",
          "positions": [
           [
            6,
            4
           ],
           [
            7,
            4
           ]
          ],
          "sources": [
           "E07_C03_Maximum-Projection_FITC_05",
           "E08_C03_Maximum-Projection_FITC_05"
          ]
         }
        },
        {
         "mergedGrid": {
          "mergedGridSourceName": "merged_view_plate_C04_empty_projection",
          "positions": [
           [
            6,
            4
           ],
           [
            7,
            4
           ]
          ],
          "sources": [
           "E07_C04_empty_projection",
           "E08_C04_empty_projection"
          ]
         }
        }
       ],
       "uiSelectionGroup": "bookmarks"
      },
      "text/plain": [
       "<IPython.core.display.JSON object>"
      ]
     },
     "execution_count": 10,
     "metadata": {
      "application/json": {
       "expanded": false,
       "root": "root"
      }
     },
     "output_type": "execute_result"
    }
   ],
   "source": [
    "view = dataset_metadata[\"views\"][\"Projections\"]\n",
    "JSON(view)"
   ]
  },
  {
   "cell_type": "code",
   "execution_count": 11,
   "id": "fe9bac8e-dfd2-4007-8f0b-96ea764366ca",
   "metadata": {
    "tags": []
   },
   "outputs": [
    {
     "data": {
      "application/vnd.jupyter.widget-view+json": {
       "model_id": "e8f0110ad6e047d1ba1bd2e6295e7a4f",
       "version_major": 2,
       "version_minor": 0
      },
      "text/plain": [
       "  0%|          | 0/1 [00:00<?, ?it/s]"
      ]
     },
     "metadata": {},
     "output_type": "display_data"
    },
    {
     "data": {
      "application/vnd.jupyter.widget-view+json": {
       "model_id": "",
       "version_major": 2,
       "version_minor": 0
      },
      "text/plain": [
       "  0%|          | 0/2 [00:00<?, ?it/s]"
      ]
     },
     "metadata": {},
     "output_type": "display_data"
    },
    {
     "name": "stderr",
     "output_type": "stream",
     "text": [
      "/tungstenfs/nobackup/gmicro/eglijan/miniconda3/envs/ggrossha/lib/python3.9/site-packages/mobie/metadata/dataset_metadata.py:72: UserWarning: A view with name Projections already exists for the dataset mobie-example-project/Projection-Mix\n",
      "  warnings.warn(msg)\n"
     ]
    }
   ],
   "source": [
    "add_labels_view(\n",
    "    plate=plate,\n",
    "    dataset_folder=dataset_folder,\n",
    "    well_group=\"0/projections\",\n",
    "    channel=0,\n",
    "    label_name=\"simple_threshold\",\n",
    "    view_name=\"Projections\",\n",
    "    extra_properties=(\"area\", \"bbox\")\n",
    ")\n"
   ]
  },
  {
   "cell_type": "code",
   "execution_count": 12,
   "id": "69178e03-2175-4fb6-b044-4c5666f6d5e8",
   "metadata": {
    "tags": []
   },
   "outputs": [
    {
     "data": {
      "application/json": {
       "isExclusive": true,
       "sourceDisplays": [
        {
         "imageDisplay": {
          "color": "r=115,g=255,b=0,a=255",
          "contrastLimits": [
           142,
           23030
          ],
          "name": "Plate_C01_Maximum-Projection_FITC_05",
          "opacity": 1,
          "sources": [
           "merged_view_plate_C01_Maximum-Projection_FITC_05"
          ],
          "visible": true
         }
        },
        {
         "imageDisplay": {
          "color": "r=115,g=255,b=0,a=255",
          "contrastLimits": [
           115,
           19267
          ],
          "name": "Plate_C02_Best-Focus-Projection_FITC_05",
          "opacity": 1,
          "sources": [
           "merged_view_plate_C02_Best-Focus-Projection_FITC_05"
          ],
          "visible": false
         }
        },
        {
         "imageDisplay": {
          "color": "r=115,g=255,b=0,a=255",
          "contrastLimits": [
           142,
           23021
          ],
          "name": "Plate_C03_Maximum-Projection_FITC_05",
          "opacity": 1,
          "sources": [
           "merged_view_plate_C03_Maximum-Projection_FITC_05"
          ],
          "visible": false
         }
        },
        {
         "imageDisplay": {
          "color": "r=0,g=0,b=0,a=255",
          "contrastLimits": [
           0,
           0
          ],
          "name": "Plate_C04_empty_projection",
          "opacity": 1,
          "sources": [
           "merged_view_plate_C04_empty_projection"
          ],
          "visible": false
         }
        },
        {
         "regionDisplay": {
          "lut": "glasbey",
          "name": "Wells",
          "opacity": 0.5,
          "showAsBoundaries": false,
          "sources": {
           "E07": [
            "E07_C01_Maximum-Projection_FITC_05",
            "E07_C02_Best-Focus-Projection_FITC_05",
            "E07_C03_Maximum-Projection_FITC_05",
            "E07_C04_empty_projection"
           ],
           "E08": [
            "E08_C01_Maximum-Projection_FITC_05",
            "E08_C02_Best-Focus-Projection_FITC_05",
            "E08_C03_Maximum-Projection_FITC_05",
            "E08_C04_empty_projection"
           ]
          },
          "tableSource": "wells",
          "visible": true
         }
        },
        {
         "segmentationDisplay": {
          "lut": "glasbey",
          "name": "Segmentation_Projections",
          "opacity": 0.5,
          "sources": [
           "merged_segmentation_view_Projections"
          ],
          "visible": false
         }
        }
       ],
       "sourceTransforms": [
        {
         "mergedGrid": {
          "mergedGridSourceName": "merged_view_plate_C01_Maximum-Projection_FITC_05",
          "positions": [
           [
            6,
            4
           ],
           [
            7,
            4
           ]
          ],
          "sources": [
           "E07_C01_Maximum-Projection_FITC_05",
           "E08_C01_Maximum-Projection_FITC_05"
          ]
         }
        },
        {
         "mergedGrid": {
          "mergedGridSourceName": "merged_view_plate_C02_Best-Focus-Projection_FITC_05",
          "positions": [
           [
            6,
            4
           ],
           [
            7,
            4
           ]
          ],
          "sources": [
           "E07_C02_Best-Focus-Projection_FITC_05",
           "E08_C02_Best-Focus-Projection_FITC_05"
          ]
         }
        },
        {
         "mergedGrid": {
          "mergedGridSourceName": "merged_view_plate_C03_Maximum-Projection_FITC_05",
          "positions": [
           [
            6,
            4
           ],
           [
            7,
            4
           ]
          ],
          "sources": [
           "E07_C03_Maximum-Projection_FITC_05",
           "E08_C03_Maximum-Projection_FITC_05"
          ]
         }
        },
        {
         "mergedGrid": {
          "mergedGridSourceName": "merged_view_plate_C04_empty_projection",
          "positions": [
           [
            6,
            4
           ],
           [
            7,
            4
           ]
          ],
          "sources": [
           "E07_C04_empty_projection",
           "E08_C04_empty_projection"
          ]
         }
        },
        {
         "mergedGrid": {
          "mergedGridSourceName": "merged_segmentation_view_Projections",
          "positions": [
           [
            6,
            4
           ],
           [
            7,
            4
           ]
          ],
          "sources": [
           "E07_simple_threshold",
           "E08_simple_threshold"
          ]
         }
        }
       ],
       "uiSelectionGroup": "bookmarks"
      },
      "text/plain": [
       "<IPython.core.display.JSON object>"
      ]
     },
     "execution_count": 12,
     "metadata": {
      "application/json": {
       "expanded": false,
       "root": "root"
      }
     },
     "output_type": "execute_result"
    }
   ],
   "source": [
    "dataset_metadata = read_dataset_metadata(dataset_folder=dataset_folder)\n",
    "view = dataset_metadata[\"views\"][\"Projections\"]\n",
    "JSON(view)"
   ]
  },
  {
   "cell_type": "code",
   "execution_count": 13,
   "id": "f0e8cdab-8df0-45eb-8a12-2aac1241c326",
   "metadata": {
    "tags": []
   },
   "outputs": [
    {
     "name": "stderr",
     "output_type": "stream",
     "text": [
      "Check sources for dataset Projection-Mix: 100%|████████████████████████████████████████████████████████████████████████████████████████████████████████████████████████████████████████████████████| 19/19 [00:00<00:00, 154.48it/s]\n",
      "Check views for dataset Projection-Mix: 100%|█████████████████████████████████████████████████████████████████████████████████████████████████████████████████████████████████████████████████████████| 2/2 [00:00<00:00, 48.06it/s]\n",
      "Check view files for dataset Projection-Mix: 0it [00:00, ?it/s]\n"
     ]
    }
   ],
   "source": [
    "# Validate MoBIE dataset integrety\n",
    "validate_dataset(dataset_folder=dataset_folder)"
   ]
  },
  {
   "cell_type": "markdown",
   "id": "6837c312-5c48-4418-a32c-be73b7d4e91b",
   "metadata": {},
   "source": [
    "## Aggregate tables into common wells table"
   ]
  },
  {
   "cell_type": "code",
   "execution_count": 14,
   "id": "eb09722e-c52b-4bd1-b0f9-46a14ef05b73",
   "metadata": {
    "tags": []
   },
   "outputs": [
    {
     "name": "stdout",
     "output_type": "stream",
     "text": [
      "           area_mean_simple_threshold  area_min_simple_threshold  \\\n",
      "region_id                                                          \n",
      "E07                        100.633492                   1.868142   \n",
      "E08                        350.943864                   1.868142   \n",
      "\n",
      "           area_max_simple_threshold  area_median_simple_threshold  \n",
      "region_id                                                           \n",
      "E07                       128.901815                    106.484108  \n",
      "E08                      1081.654357                    218.572642  \n"
     ]
    }
   ],
   "source": [
    "compute_aggregate_table_values(\n",
    "    dataset_folder=dataset_folder,\n",
    "    table_suffix=\"simple_threshold\",\n",
    "    aggregation_dict={\"area\": [\"mean\", \"min\", \"max\", \"median\"]},\n",
    ")\n"
   ]
  },
  {
   "cell_type": "code",
   "execution_count": null,
   "id": "0f3b8840-1bfc-4f1a-a16a-87a5648c3e3e",
   "metadata": {},
   "outputs": [],
   "source": []
  }
 ],
 "metadata": {
  "kernelspec": {
   "display_name": "Python 3 (ipykernel)",
   "language": "python",
   "name": "python3"
  },
  "language_info": {
   "codemirror_mode": {
    "name": "ipython",
    "version": 3
   },
   "file_extension": ".py",
   "mimetype": "text/x-python",
   "name": "python",
   "nbconvert_exporter": "python",
   "pygments_lexer": "ipython3",
   "version": "3.9.16"
  }
 },
 "nbformat": 4,
 "nbformat_minor": 5
}
